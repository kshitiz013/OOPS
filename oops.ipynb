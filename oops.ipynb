{
  "nbformat": 4,
  "nbformat_minor": 0,
  "metadata": {
    "colab": {
      "provenance": []
    },
    "kernelspec": {
      "name": "python3",
      "display_name": "Python 3"
    },
    "language_info": {
      "name": "python"
    }
  },
  "cells": [
    {
      "cell_type": "code",
      "execution_count": 1,
      "metadata": {
        "id": "cwmIjwADZ6dq"
      },
      "outputs": [],
      "source": [
        "# 1. What are the five key concepts of Object-Oriented Programming (OOP)?"
      ]
    },
    {
      "cell_type": "code",
      "source": [
        "# - Class\n",
        "# - Object\n",
        "# - Abstraction\n",
        "# - Encapsulation\n",
        "# - Inheritance\n",
        "# -polymorphism"
      ],
      "metadata": {
        "id": "8cLDcWnvZ_EX"
      },
      "execution_count": 2,
      "outputs": []
    },
    {
      "cell_type": "code",
      "source": [
        "#2.  Write a Python class for a `Car` with attributes for `make`, `model`, and `year`. Include a method to display the car's information."
      ],
      "metadata": {
        "id": "D1CRSImKalL5"
      },
      "execution_count": 5,
      "outputs": []
    },
    {
      "cell_type": "code",
      "source": [
        "class Car:\n",
        "\tdef __init__(self,make,model,year):\n",
        "\t\t\tself.make=make\n",
        "\t\t\tself.model=model\n",
        "\t\t\tself,year=year\n",
        "\tdef display(self):\n",
        "\t\t\tprint(self.make,self.model,self,year)"
      ],
      "metadata": {
        "id": "iJlKgyaoaq1g"
      },
      "execution_count": 6,
      "outputs": []
    },
    {
      "cell_type": "code",
      "source": [
        "# 3. Explain the difference between instance methods and class methods. Provide an example of each."
      ],
      "metadata": {
        "id": "TTTQlnICav2I"
      },
      "execution_count": 7,
      "outputs": []
    },
    {
      "cell_type": "code",
      "source": [
        "# class method -bound to the class (and not to a particular instance of the class), access/modify methods and attributes associated to class accross all the instances,\n",
        "# we pass cls as the first parameter of the class method.we will also use a decorator which is \"@class method while defining\n",
        "\n",
        "# instance method-The function inside the class whose first parameter is usually self and every object has the  their own instance method i.e its functionality will be same\n",
        "# but it will display or perform calculation on the basis of parameter provided to it .\n",
        "\n",
        "# instance method-\n",
        "class Car:\n",
        "\tdef display(self):\n",
        "\t\t\tprint(\"this is car\")\n",
        "\n",
        "# class method-\n",
        "class Student:\n",
        "  def __init__(self,name):\n",
        "   self.name=name\n",
        "   @classmethod\n",
        "   def student_details(cls, name):\n",
        "    return cls(name)\n",
        "# obj1 = Student.student_details(\"John\")\n",
        "# obj1\n",
        "# In the instance method first we have to make instance/obhect but in class method we can directly acces it"
      ],
      "metadata": {
        "id": "KlAEMndYa_oj"
      },
      "execution_count": 17,
      "outputs": []
    },
    {
      "cell_type": "code",
      "source": [
        "# 4. How does Python implement method overloading? Give an example."
      ],
      "metadata": {
        "id": "Z0Qvh07ObWVS"
      },
      "execution_count": 18,
      "outputs": []
    },
    {
      "cell_type": "code",
      "source": [
        "# when we inherit functionalities from main class   and suppose their is the method in the parent class called display which display detail and in the child class the same name method is also their and suppose we form object from the child class and access the method display,we will see that whatever functionalities is written in the\n",
        "# display method of child class will run\n",
        "\n",
        "class parent:\n",
        "\tdef func(self):\n",
        "\t\tprint(\"this is parent class\")\n",
        "\n",
        "class child(parent):\n",
        "\tdef func(self):\n",
        "\t\tprint(\"this is child class\")"
      ],
      "metadata": {
        "id": "F4TVRmTDb7-O"
      },
      "execution_count": 20,
      "outputs": []
    },
    {
      "cell_type": "code",
      "source": [
        "# 5. What are the three types of access modifiers in Python? How are they denoted?"
      ],
      "metadata": {
        "id": "sskR8zFlcPDa"
      },
      "execution_count": 21,
      "outputs": []
    },
    {
      "cell_type": "code",
      "source": [
        "# The three type of access modifier are public ,private ,protected\n",
        "# class access_modifier:\n",
        "# \t\tdef pub(self):\n",
        "# \t\t\t\tprint(\"this is public method\")\n",
        "# \t\tdef __pri(self):#we use a double underscore before it\n",
        "# \t\t\t\tprint(\"this is private method\")\n",
        "# \t\tdef _protec(self):#we use a single underscore before it\n",
        "# \t\t\t\tprint(\"this is protected  method\")"
      ],
      "metadata": {
        "id": "B1DDQy1Wdx2J"
      },
      "execution_count": 22,
      "outputs": []
    },
    {
      "cell_type": "code",
      "source": [
        "# 6. Describe the five types of inheritance in Python. Provide a simple example of multiple inheritance."
      ],
      "metadata": {
        "id": "f6K7zLU-d2W1"
      },
      "execution_count": 23,
      "outputs": []
    },
    {
      "cell_type": "code",
      "source": [
        "# single inheritance-when a child class have only one parent class\n",
        "# multi-level inheritance-if there are three class then the first class will give it functionality to second and then second will again give to third,means the third class\n",
        "# will have boths property\n",
        "# multiple inheritance - one child class may inherit the propety of mutiple parent class\n",
        "\n",
        "# class ParentClass1:\n",
        "#     def method1(self):\n",
        "#         print(\"method 1 of parent class 1\")\n",
        "# class ParentClass2:\n",
        "#     def method2(self):\n",
        "#         print(\"method2 of parent class 2\")\n",
        "\n",
        "# class ChildClass(ParentClass1, ParentClass2):\n",
        "#     def method(self):\n",
        "#         print(\"method of child class\")\n",
        "\n",
        "# hierarchical inheritance >>one parent class>>multiple(more than two childclass)\n",
        "# hybrid inheritance>> multiple types or combination of different inheritance\n"
      ],
      "metadata": {
        "id": "1VRozrFod7kw"
      },
      "execution_count": 24,
      "outputs": []
    },
    {
      "cell_type": "code",
      "source": [
        "# 7. What is the Method Resolution Order (MRO) in Python? How can you retrieve it programmatically?"
      ],
      "metadata": {
        "id": "6Z-_bMrveBTI"
      },
      "execution_count": 25,
      "outputs": []
    },
    {
      "cell_type": "code",
      "source": [
        "# It is a mechanism used to determine the order in which base classes are searched when looking for a method. This order becomes particularly important in multiple inheritance scenarios, where a class can inherit from more than one parent class.\n",
        "# class A:\n",
        "#     def method(self):\n",
        "#         print('A.method')\n",
        "\n",
        "# class B(A):\n",
        "#     def method(self):\n",
        "#         print('B.method')\n",
        "\n",
        "# class C(A):\n",
        "#     def method(self):\n",
        "#         print('C.method')\n",
        "\n",
        "# class D(B, C):\n",
        "#     pass\n",
        "\n",
        "# d = D()\n",
        "# d.method()\n",
        "# print(D.__mro__)"
      ],
      "metadata": {
        "id": "6dRT_ux9eGIO"
      },
      "execution_count": 26,
      "outputs": []
    },
    {
      "cell_type": "code",
      "source": [
        "# 8. Create an abstract base class `Shape` with an abstract method `area()`. Then create two subclasses `Circle` and `Rectangle` that implement the `area()` method"
      ],
      "metadata": {
        "id": "7vBNK8AHeK5N"
      },
      "execution_count": 27,
      "outputs": []
    },
    {
      "cell_type": "code",
      "source": [
        "import abc\n",
        "class Shape:\n",
        "\n",
        "    @abc.abstractmethod\n",
        "    def calculate_area(self):\n",
        "        pass\n",
        "class Rectangle(Shape):\n",
        "    def calculate_area(self):\n",
        "        return \"Area of rectange is len*breadth\"\n",
        "class Circle(Shape):\n",
        "    def calculate_area(self):\n",
        "        return \"area of circle is pi r **2\""
      ],
      "metadata": {
        "id": "RHXg4MUjeO4t"
      },
      "execution_count": 29,
      "outputs": []
    },
    {
      "cell_type": "code",
      "source": [
        "# 9. Demonstrate polymorphism by creating a function that can work with different shape objects to calculate and print their areas."
      ],
      "metadata": {
        "id": "G5hWSzykeUMh"
      },
      "execution_count": 30,
      "outputs": []
    },
    {
      "cell_type": "code",
      "source": [
        "import math\n",
        "\n",
        "# Base class\n",
        "class Shape:\n",
        "    def area(self):\n",
        "        raise NotImplementedError(\"Subclasses must implement this method\")\n",
        "\n",
        "# Derived class for Circle\n",
        "class Circle(Shape):\n",
        "    def __init__(self, radius):\n",
        "        self.radius = radius\n",
        "\n",
        "    def area(self):\n",
        "        return math.pi * (self.radius ** 2)\n",
        "\n",
        "# Derived class for Rectangle\n",
        "class Rectangle(Shape):\n",
        "    def __init__(self, width, height):\n",
        "        self.width = width\n",
        "        self.height = height\n",
        "\n",
        "    def area(self):\n",
        "        return self.width * self.height\n",
        "\n",
        "# Function to calculate and print areas\n",
        "def print_area(shape):\n",
        "    print(f\"The area is: {shape.area()}\")\n",
        "\n",
        "# Creating shape objects\n",
        "circle = Circle(5)\n",
        "rectangle = Rectangle(4, 6)\n",
        "\n",
        "# Using polymorphism\n",
        "print_area(circle)\n",
        "print_area(rectangle)\n"
      ],
      "metadata": {
        "colab": {
          "base_uri": "https://localhost:8080/"
        },
        "id": "s5i98zxeeg2J",
        "outputId": "5da881da-28dc-4528-df1d-9d0f955e8d21"
      },
      "execution_count": 33,
      "outputs": [
        {
          "output_type": "stream",
          "name": "stdout",
          "text": [
            "The area is: 78.53981633974483\n",
            "The area is: 24\n"
          ]
        }
      ]
    },
    {
      "cell_type": "code",
      "source": [
        "# 10. Implement encapsulation in a `BankAccount` class with private attributes for `balance` and `account_number`. Include methods for deposit, withdrawal, and balance inquiry."
      ],
      "metadata": {
        "id": "RMk70Fi_fnB3"
      },
      "execution_count": 34,
      "outputs": []
    },
    {
      "cell_type": "code",
      "source": [
        "class BankAccount:\n",
        "    def __init__(self, account_number, initial_balance=0):\n",
        "        self.__account_number = account_number  # Private attribute\n",
        "        self.__balance = initial_balance         # Private attribute\n",
        "\n",
        "    def deposit(self, amount):\n",
        "        if amount > 0:\n",
        "            self.__balance += amount\n",
        "            print(f\"Deposited: {amount}. New balance: {self.__balance}\")\n",
        "        else:\n",
        "            print(\"Deposit amount must be positive.\")\n",
        "\n",
        "    def withdraw(self, amount):\n",
        "        if 0 < amount <= self.__balance:\n",
        "            self.__balance -= amount\n",
        "            print(f\"Withdrew: {amount}. New balance: {self.__balance}\")\n",
        "        else:\n",
        "            print(\"Withdrawal amount must be positive and cannot exceed the balance.\")\n",
        "\n",
        "    def get_balance(self):\n",
        "        return self.__balance\n",
        "\n",
        "    def get_account_number(self):\n",
        "        return self.__account_number\n",
        "\n",
        "\n",
        "# Example usage\n",
        "account = BankAccount(\"123456789\", 1000)\n",
        "\n",
        "# Depositing money\n",
        "account.deposit(500)    # Output: Deposited: 500. New balance: 1500\n",
        "\n",
        "# Withdrawing money\n",
        "account.withdraw(200)    # Output: Withdrew: 200. New balance: 1300\n",
        "\n",
        "# Checking balance\n",
        "print(f\"Current balance: {account.get_balance()}\")  # Output: Current balance: 1300\n",
        "\n",
        "# Trying to withdraw an amount greater than the balance\n",
        "account.withdraw(1500)   # Output: Withdrawal amount must be positive and cannot exceed the balance.\n"
      ],
      "metadata": {
        "colab": {
          "base_uri": "https://localhost:8080/"
        },
        "id": "aVnMZqYXf0Pg",
        "outputId": "796b27f7-47b2-40ee-a288-98ef81272bfc"
      },
      "execution_count": 35,
      "outputs": [
        {
          "output_type": "stream",
          "name": "stdout",
          "text": [
            "Deposited: 500. New balance: 1500\n",
            "Withdrew: 200. New balance: 1300\n",
            "Current balance: 1300\n",
            "Withdrawal amount must be positive and cannot exceed the balance.\n"
          ]
        }
      ]
    },
    {
      "cell_type": "code",
      "source": [
        "# 11. Write a class that overrides the `__str__` and `__add__` magic methods. What will these methods allow you to do?"
      ],
      "metadata": {
        "id": "bHSIwaJfgHM_"
      },
      "execution_count": 36,
      "outputs": []
    },
    {
      "cell_type": "code",
      "source": [
        "class Vector:\n",
        "    def __init__(self, x, y):\n",
        "        self.x = x\n",
        "        self.y = y\n",
        "\n",
        "    def __str__(self):\n",
        "        return f\"Vector({self.x}, {self.y})\"\n",
        "\n",
        "    def __add__(self, other):\n",
        "        if isinstance(other, Vector):\n",
        "            return Vector(self.x + other.x, self.y + other.y)\n",
        "        return NotImplemented\n",
        "\n",
        "# Example usage\n",
        "v1 = Vector(2, 3)\n",
        "v2 = Vector(4, 5)\n",
        "\n",
        "print(v1)        # Output: Vector(2, 3)\n",
        "print(v2)        # Output: Vector(4, 5)\n",
        "\n",
        "v3 = v1 + v2\n",
        "print(v3)       # Output: Vector(6, 8)\n"
      ],
      "metadata": {
        "colab": {
          "base_uri": "https://localhost:8080/"
        },
        "id": "vUIsxjB2gPFt",
        "outputId": "1cd2c59c-d1da-4e9c-e9ee-c98d4d3dd76b"
      },
      "execution_count": 37,
      "outputs": [
        {
          "output_type": "stream",
          "name": "stdout",
          "text": [
            "Vector(2, 3)\n",
            "Vector(4, 5)\n",
            "Vector(6, 8)\n"
          ]
        }
      ]
    },
    {
      "cell_type": "code",
      "source": [
        "# 12.Create a decorator that measures and prints the execution time of a function."
      ],
      "metadata": {
        "id": "RJAwAOx9o8nq"
      },
      "execution_count": 40,
      "outputs": []
    },
    {
      "cell_type": "code",
      "source": [
        "import time\n",
        "\n",
        "def timer_decorator(func):\n",
        "    def wrapper(*args, **kwargs):\n",
        "        start_time = time.time()  # Start time\n",
        "        result = func(*args, **kwargs)  # Call the original function\n",
        "        end_time = time.time()  # End time\n",
        "        execution_time = end_time - start_time  # Calculate execution time\n",
        "        print(f\"Execution time of '{func.__name__}': {execution_time:.4f} seconds\")\n",
        "        return result  # Return the result of the original function\n",
        "    return wrapper\n",
        "\n",
        "# Example usage\n",
        "@timer_decorator\n",
        "def sample_function(n):\n",
        "    total = 0\n",
        "    for i in range(n):\n",
        "        total += i\n",
        "    return total\n",
        "\n",
        "# Call the decorated function\n",
        "result = sample_function(1000000)\n"
      ],
      "metadata": {
        "colab": {
          "base_uri": "https://localhost:8080/"
        },
        "id": "6fetrotnn7Gd",
        "outputId": "128819c9-54d0-4857-fc3b-d9bcec580ab4"
      },
      "execution_count": 38,
      "outputs": [
        {
          "output_type": "stream",
          "name": "stdout",
          "text": [
            "Execution time of 'sample_function': 0.0715 seconds\n"
          ]
        }
      ]
    },
    {
      "cell_type": "code",
      "source": [
        "#13. Explain the concept of the Diamond Problem in multiple inheritance. How does Python resolve it?"
      ],
      "metadata": {
        "id": "Y2vwDFfWoVIy"
      },
      "execution_count": 41,
      "outputs": []
    },
    {
      "cell_type": "code",
      "source": [
        "# # The Diamond Problem occurs in the context of multiple inheritance in object-oriented programming when a class inherits from two classes that have a common ancestor.\n",
        "# #  This creates a diamond-shaped inheritance structure.\n",
        "# The issue arises when class D tries to access a method or property defined in class A. Since both B and C inherit from A, it's unclear whether D should use the method from\n",
        "# B or the method from C. This ambiguity can lead to inconsistencies and unexpected behavior\n",
        "# Python uses the C3 Linearization algorithm (or MRO, Method Resolution Order) to resolve this ambiguity"
      ],
      "metadata": {
        "id": "szxBirM4o3Tp"
      },
      "execution_count": 44,
      "outputs": []
    },
    {
      "cell_type": "code",
      "source": [
        "# 14.Write a class method that keeps track of the number of instances created from a class."
      ],
      "metadata": {
        "id": "dihQsOWbpIEm"
      },
      "execution_count": 45,
      "outputs": []
    },
    {
      "cell_type": "code",
      "source": [
        "class InstanceCounter:\n",
        "    # Class variable to keep track of the number of instances\n",
        "    instance_count = 0\n",
        "\n",
        "    def __init__(self):\n",
        "        # Increment the instance count each time a new instance is created\n",
        "        InstanceCounter.instance_count += 1\n",
        "\n",
        "    @classmethod\n",
        "    def get_instance_count(cls):\n",
        "        \"\"\"Class method to return the number of instances created.\"\"\"\n",
        "        return cls.instance_count\n",
        "\n",
        "# Example usage\n",
        "obj1 = InstanceCounter()\n",
        "obj2 = InstanceCounter()\n",
        "obj3 = InstanceCounter()\n",
        "\n",
        "print(InstanceCounter.get_instance_count())  # Output: 3\n"
      ],
      "metadata": {
        "colab": {
          "base_uri": "https://localhost:8080/"
        },
        "id": "PyUfNDGlpif_",
        "outputId": "29bcf445-6b29-4e52-c6cb-991174b2210a"
      },
      "execution_count": 46,
      "outputs": [
        {
          "output_type": "stream",
          "name": "stdout",
          "text": [
            "3\n"
          ]
        }
      ]
    },
    {
      "cell_type": "code",
      "source": [
        "# 15.Implement a static method in a class that checks if a given year is a leap year."
      ],
      "metadata": {
        "id": "snG0bpIcppzP"
      },
      "execution_count": 47,
      "outputs": []
    },
    {
      "cell_type": "code",
      "source": [
        "class Year:\n",
        "    @staticmethod\n",
        "    def is_leap_year(year):\n",
        "        \"\"\"Static method to check if a given year is a leap year.\"\"\"\n",
        "        if (year % 4 == 0 and year % 100 != 0) or (year % 400 == 0):\n",
        "            return True\n",
        "        return False\n",
        "\n",
        "# Example usage\n",
        "year_to_check = 2024\n",
        "if Year.is_leap_year(year_to_check):\n",
        "    print(f\"{year_to_check} is a leap year.\")\n",
        "else:\n",
        "    print(f\"{year_to_check} is not a leap year.\")\n"
      ],
      "metadata": {
        "colab": {
          "base_uri": "https://localhost:8080/"
        },
        "id": "m61NgHeXpwPT",
        "outputId": "c9c08e0e-abf5-4c77-fd57-7179da1dd382"
      },
      "execution_count": 48,
      "outputs": [
        {
          "output_type": "stream",
          "name": "stdout",
          "text": [
            "2024 is a leap year.\n"
          ]
        }
      ]
    },
    {
      "cell_type": "code",
      "source": [],
      "metadata": {
        "id": "3gqLi509qDrq"
      },
      "execution_count": null,
      "outputs": []
    }
  ]
}